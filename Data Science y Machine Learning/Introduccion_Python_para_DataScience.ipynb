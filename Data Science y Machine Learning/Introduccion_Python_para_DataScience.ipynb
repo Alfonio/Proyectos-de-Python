{
  "nbformat": 4,
  "nbformat_minor": 0,
  "metadata": {
    "colab": {
      "provenance": [],
      "collapsed_sections": [
        "BPeXWqUTN5Z-",
        "-zhklALfhVD8",
        "Krvhv6y0hqQz",
        "iyJ6QHpTprt_",
        "dphPDTF4epqM",
        "Ztks0JvpJD-U",
        "CiftX1MtNsIk"
      ],
      "authorship_tag": "ABX9TyO+7QnE+aHKF4KnLpLgw/i8",
      "include_colab_link": true
    },
    "kernelspec": {
      "name": "python3",
      "display_name": "Python 3"
    },
    "language_info": {
      "name": "python"
    }
  },
  "cells": [
    {
      "cell_type": "markdown",
      "metadata": {
        "id": "view-in-github",
        "colab_type": "text"
      },
      "source": [
        "<a href=\"https://colab.research.google.com/github/Alfonio/Proyectos-de-Python/blob/main/Introduccion_Python_para_DataScience.ipynb\" target=\"_parent\"><img src=\"https://colab.research.google.com/assets/colab-badge.svg\" alt=\"Open In Colab\"/></a>"
      ]
    },
    {
      "cell_type": "markdown",
      "source": [
        "# ***Python para DataSciense - Introduccion para DataScience***"
      ],
      "metadata": {
        "id": "Yksd7h8BDHd6"
      }
    },
    {
      "cell_type": "markdown",
      "source": [
        "#***Introduccion al lenguaje***"
      ],
      "metadata": {
        "id": "BPeXWqUTN5Z-"
      }
    },
    {
      "cell_type": "code",
      "execution_count": null,
      "metadata": {
        "colab": {
          "base_uri": "https://localhost:8080/"
        },
        "id": "P3tSNTyC9xuu",
        "outputId": "a808f4b9-c65d-4d65-834a-affb4050e3fc"
      },
      "outputs": [
        {
          "output_type": "execute_result",
          "data": {
            "text/plain": [
              "2"
            ]
          },
          "metadata": {},
          "execution_count": 130
        }
      ],
      "source": [
        "1+1"
      ]
    },
    {
      "cell_type": "code",
      "source": [
        "\"Alfonso\""
      ],
      "metadata": {
        "colab": {
          "base_uri": "https://localhost:8080/"
        },
        "id": "f5yTcSfcDxiI",
        "outputId": "29bca9ae-5016-473c-c3c7-a47df7d4b2bd"
      },
      "execution_count": null,
      "outputs": [
        {
          "output_type": "execute_result",
          "data": {
            "text/plain": [
              "'Alfonso'"
            ],
            "application/vnd.google.colaboratory.intrinsic+json": {
              "type": "string"
            }
          },
          "metadata": {},
          "execution_count": 131
        }
      ]
    },
    {
      "cell_type": "code",
      "source": [
        "nombre = \"Alfonso\""
      ],
      "metadata": {
        "id": "C8uF-htCEDMf"
      },
      "execution_count": null,
      "outputs": []
    },
    {
      "cell_type": "code",
      "source": [
        "nombre"
      ],
      "metadata": {
        "colab": {
          "base_uri": "https://localhost:8080/"
        },
        "id": "YVn9Jsa6ENld",
        "outputId": "1f39c4e6-fcbd-4401-dccc-0db349c80b69"
      },
      "execution_count": null,
      "outputs": [
        {
          "output_type": "execute_result",
          "data": {
            "text/plain": [
              "'Alfonso'"
            ],
            "application/vnd.google.colaboratory.intrinsic+json": {
              "type": "string"
            }
          },
          "metadata": {},
          "execution_count": 133
        }
      ]
    },
    {
      "cell_type": "code",
      "source": [
        "edad = 19"
      ],
      "metadata": {
        "id": "iLnc2EvwE16B"
      },
      "execution_count": null,
      "outputs": []
    },
    {
      "cell_type": "code",
      "source": [
        "print(\"Mi nombre es Alfonso y tengo 19 años\")\n"
      ],
      "metadata": {
        "colab": {
          "base_uri": "https://localhost:8080/"
        },
        "id": "ZJldOonwFKdn",
        "outputId": "b4304799-7881-46e1-a09c-5caeb4f3494d"
      },
      "execution_count": null,
      "outputs": [
        {
          "output_type": "stream",
          "name": "stdout",
          "text": [
            "Mi nombre es Alfonso y tengo 19 años\n"
          ]
        }
      ]
    },
    {
      "cell_type": "code",
      "source": [
        "print(\"Mi nombre es nombre y tengo edad años\") #no funciona asi, sino que hay que poner atras de las comillas esto f\"\"  y las variables con {nombre}, {edad}"
      ],
      "metadata": {
        "colab": {
          "base_uri": "https://localhost:8080/"
        },
        "id": "tlhQ-ujzFZm2",
        "outputId": "ce49090b-d4df-40f5-911f-0a377bddd815"
      },
      "execution_count": null,
      "outputs": [
        {
          "output_type": "stream",
          "name": "stdout",
          "text": [
            "Mi nombre es nombre y tengo edad años\n"
          ]
        }
      ]
    },
    {
      "cell_type": "code",
      "source": [
        "print(f\"Mi nombre es {nombre} y tengo {edad} años\")"
      ],
      "metadata": {
        "colab": {
          "base_uri": "https://localhost:8080/"
        },
        "id": "lTH8YNHiGDiM",
        "outputId": "18d992e7-bb76-4afb-acad-8082a54d84f1"
      },
      "execution_count": null,
      "outputs": [
        {
          "output_type": "stream",
          "name": "stdout",
          "text": [
            "Mi nombre es Alfonso y tengo 19 años\n"
          ]
        }
      ]
    },
    {
      "cell_type": "code",
      "source": [
        "#crear mis funciones personalizadas con def (la funcion) y input"
      ],
      "metadata": {
        "id": "bhsNSNFnGWWt"
      },
      "execution_count": null,
      "outputs": []
    },
    {
      "cell_type": "code",
      "source": [
        "def saludar():\n",
        "  nombre = input(\"Pone tu name: \")\n",
        "  print(f\"Que onda {nombre}, todo bien che\")"
      ],
      "metadata": {
        "id": "AWQ616XFHDoD"
      },
      "execution_count": null,
      "outputs": []
    },
    {
      "cell_type": "code",
      "source": [
        "saludar()"
      ],
      "metadata": {
        "colab": {
          "base_uri": "https://localhost:8080/"
        },
        "id": "BCbmhKqVJeqQ",
        "outputId": "f72b9509-a1e2-4900-c1bb-c22bb0a0b64b"
      },
      "execution_count": null,
      "outputs": [
        {
          "output_type": "stream",
          "name": "stdout",
          "text": [
            "Pone tu name: hola\n",
            "Que onda hola, todo bien che\n"
          ]
        }
      ]
    },
    {
      "cell_type": "code",
      "source": [
        "nombre = \"Andrea\""
      ],
      "metadata": {
        "id": "CjUeoHxMKDjh"
      },
      "execution_count": null,
      "outputs": []
    },
    {
      "cell_type": "code",
      "source": [
        "def saludar_con_parametros(nombre):\n",
        "  print(f\"Que onda {nombre},todo bien salchicha\")"
      ],
      "metadata": {
        "id": "SUVRtYvtxzKz"
      },
      "execution_count": null,
      "outputs": []
    },
    {
      "cell_type": "code",
      "source": [
        "saludar_con_parametros(nombre)"
      ],
      "metadata": {
        "colab": {
          "base_uri": "https://localhost:8080/"
        },
        "id": "1EpqRcDMyX6V",
        "outputId": "3d05fc3d-fdcd-4fd9-b920-75b8cdd01aed"
      },
      "execution_count": null,
      "outputs": [
        {
          "output_type": "stream",
          "name": "stdout",
          "text": [
            "Que onda Andrea,todo bien salchicha\n"
          ]
        }
      ]
    },
    {
      "cell_type": "code",
      "source": [
        "def velocidad(espacio, tiempo):\n",
        " v = espacio / tiempo\n",
        " print(f'Velocidad: {v} m/s')\n",
        "\n",
        "velocidad(100, 20)"
      ],
      "metadata": {
        "colab": {
          "base_uri": "https://localhost:8080/"
        },
        "id": "54DwGet2y_fh",
        "outputId": "ece29d8c-5d9b-4635-bace-a8f83e7880e6"
      },
      "execution_count": null,
      "outputs": [
        {
          "output_type": "stream",
          "name": "stdout",
          "text": [
            "Velocidad: 5.0 m/s\n"
          ]
        }
      ]
    },
    {
      "cell_type": "markdown",
      "source": [
        "#***CONDICIONALES***"
      ],
      "metadata": {
        "id": "-zhklALfhVD8"
      }
    },
    {
      "cell_type": "code",
      "source": [
        "edad = 18"
      ],
      "metadata": {
        "id": "18WwPpAv6yaP"
      },
      "execution_count": null,
      "outputs": []
    },
    {
      "cell_type": "code",
      "source": [
        "def verificacion_conductor(edad):\n",
        " if edad >= 18:\n",
        "   print(\"Puede conducir\")\n",
        " else:\n",
        "   print(\"No puede conducir\")\n",
        "\n",
        "verificacion_conductor(edad)"
      ],
      "metadata": {
        "colab": {
          "base_uri": "https://localhost:8080/"
        },
        "id": "U-oWvyj462wX",
        "outputId": "fbdf2372-221a-4d34-a690-9223e20792fb"
      },
      "execution_count": null,
      "outputs": [
        {
          "output_type": "stream",
          "name": "stdout",
          "text": [
            "Puede conducir\n"
          ]
        }
      ]
    },
    {
      "cell_type": "code",
      "source": [
        "def clasificar_nps(nota):\n",
        "  if nota <= 6:\n",
        "    print('El alumno es considerado Detractor')\n",
        "  else:\n",
        "    if nota <= 8:\n",
        "      print('El alumno es considerado Neutro')\n",
        "    else:\n",
        "      print('El alumno es considerado Promotor')\n",
        "\n",
        "clasificar_nps(9)"
      ],
      "metadata": {
        "colab": {
          "base_uri": "https://localhost:8080/"
        },
        "id": "aq03wsYfiYtb",
        "outputId": "5c4c96a6-d8d9-47f5-92d2-219770cedde4"
      },
      "execution_count": null,
      "outputs": [
        {
          "output_type": "stream",
          "name": "stdout",
          "text": [
            "El alumno es considerado Promotor\n"
          ]
        }
      ]
    },
    {
      "cell_type": "markdown",
      "source": [
        "Verificar si usted tiene edad suficiente para conducir un auto\n",
        "\n",
        "#CONDICIONALES SIN PARAMETROS"
      ],
      "metadata": {
        "id": "Krvhv6y0hqQz"
      }
    },
    {
      "cell_type": "code",
      "source": [
        "def verificacion_de_edad():\n",
        "  edad = input(\"Pone tu edad: \")\n",
        "  edad = int(edad)\n",
        "  if edad >= 18:\n",
        "    print(\"Puede conducir\")\n",
        "  else:\n",
        "    print(\"No puede conducir\")\n",
        "\n",
        "verificacion_de_edad()"
      ],
      "metadata": {
        "id": "wj5rBzX4iZSM",
        "colab": {
          "base_uri": "https://localhost:8080/"
        },
        "outputId": "44e9895e-db5c-432b-94cf-a82a876b31a4"
      },
      "execution_count": null,
      "outputs": [
        {
          "output_type": "stream",
          "name": "stdout",
          "text": [
            "Pone tu edad: 1\n",
            "No puede conducir\n"
          ]
        }
      ]
    },
    {
      "cell_type": "code",
      "source": [
        "def permiso_de_conducir():\n",
        " edad = input('¿Cuál es tu edad? ')\n",
        " edad = int(edad)\n",
        " if edad >= 18:\n",
        "   print('Ya tienes edad suficiente para obtener permiso de conducir')\n",
        " else:\n",
        "   tiempo = 18 - edad\n",
        "   print(f'Tranquilo, faltan {tiempo} año(s) para obtener permiso de conducir')\n",
        "\n",
        "permiso_de_conducir()"
      ],
      "metadata": {
        "colab": {
          "base_uri": "https://localhost:8080/"
        },
        "id": "VbydKgy0mA40",
        "outputId": "2260dec4-db40-47c0-a93a-09d98221dc84"
      },
      "execution_count": null,
      "outputs": [
        {
          "output_type": "stream",
          "name": "stdout",
          "text": [
            "¿Cuál es tu edad? -10\n",
            "Tranquilo, faltan 28 año(s) para obtener permiso de conducir\n"
          ]
        }
      ]
    },
    {
      "cell_type": "markdown",
      "source": [
        "#*Arrays* o *Listas*"
      ],
      "metadata": {
        "id": "iyJ6QHpTprt_"
      }
    },
    {
      "cell_type": "code",
      "source": [
        "nombre = \"Raviol\""
      ],
      "metadata": {
        "id": "daJipV-UlqYJ"
      },
      "execution_count": null,
      "outputs": []
    },
    {
      "cell_type": "code",
      "source": [
        "edades = [18,29,11,49,89,1]"
      ],
      "metadata": {
        "id": "sCW1JVu2p2MQ"
      },
      "execution_count": null,
      "outputs": []
    },
    {
      "cell_type": "code",
      "source": [
        "edades"
      ],
      "metadata": {
        "colab": {
          "base_uri": "https://localhost:8080/"
        },
        "id": "mlHc8tL7p-5g",
        "outputId": "50de3bf2-174e-4676-dbca-d8ad5569c65b"
      },
      "execution_count": null,
      "outputs": [
        {
          "output_type": "execute_result",
          "data": {
            "text/plain": [
              "[18, 29, 11, 49, 89, 1]"
            ]
          },
          "metadata": {},
          "execution_count": 58
        }
      ]
    },
    {
      "cell_type": "code",
      "source": [
        "type(edades)"
      ],
      "metadata": {
        "id": "yIEHO7DaqBbg"
      },
      "execution_count": null,
      "outputs": []
    },
    {
      "cell_type": "code",
      "source": [
        "type(nombre)"
      ],
      "metadata": {
        "colab": {
          "base_uri": "https://localhost:8080/"
        },
        "id": "f_FuyKhJqIkg",
        "outputId": "4f29d309-5784-45e5-c59d-206930c5f959"
      },
      "execution_count": null,
      "outputs": [
        {
          "output_type": "execute_result",
          "data": {
            "text/plain": [
              "str"
            ]
          },
          "metadata": {},
          "execution_count": 77
        }
      ]
    },
    {
      "cell_type": "code",
      "source": [
        "type(edad)"
      ],
      "metadata": {
        "id": "GfK2tUd3qPoK"
      },
      "execution_count": null,
      "outputs": []
    },
    {
      "cell_type": "code",
      "source": [
        "edades"
      ],
      "metadata": {
        "id": "CvMQBFikqSh1"
      },
      "execution_count": null,
      "outputs": []
    },
    {
      "cell_type": "code",
      "source": [
        "#para acceder a un valor adentro de la lista, empieza en cero el array\n",
        "#[18, 29, 11, 49, 89, 1]\n",
        "# 0   1   2   3   4   5\n",
        "edades[2]"
      ],
      "metadata": {
        "id": "W5--1QKuqfjO"
      },
      "execution_count": null,
      "outputs": []
    },
    {
      "cell_type": "code",
      "source": [
        "#tecnica slice que da los valores de un valor a tal valor del array\n",
        "edades[0:2]"
      ],
      "metadata": {
        "id": "LTXKwXpXqkuc"
      },
      "execution_count": null,
      "outputs": []
    },
    {
      "cell_type": "code",
      "source": [
        "edades[:]  #llama al array completo"
      ],
      "metadata": {
        "id": "5otPLwpq1D4j"
      },
      "execution_count": null,
      "outputs": []
    },
    {
      "cell_type": "code",
      "source": [
        "edades[1:] #desde la posicion 1 hasta el final del array"
      ],
      "metadata": {
        "id": "XPyfP6RP3d1O"
      },
      "execution_count": null,
      "outputs": []
    },
    {
      "cell_type": "markdown",
      "source": [
        "tambien se puede expresar a la inversa el conteo del array (con numeros negativos)"
      ],
      "metadata": {
        "id": "8E6nbkg15DDV"
      }
    },
    {
      "cell_type": "code",
      "source": [
        "#[18, 29, 11, 49, 89, 1]\n",
        "# 0   1   2   3   4   5\n",
        "\n",
        "#[18, 29, 11, 49, 89, 1]\n",
        "# 0  -1  -2  -3  -4  -5\n",
        "edades[-2]"
      ],
      "metadata": {
        "id": "YKcxqSlz38xG"
      },
      "execution_count": null,
      "outputs": []
    },
    {
      "cell_type": "code",
      "source": [
        "edades[:]"
      ],
      "metadata": {
        "id": "H3GES6Vz5Tbz"
      },
      "execution_count": null,
      "outputs": []
    },
    {
      "cell_type": "code",
      "source": [
        "edades[-3]"
      ],
      "metadata": {
        "id": "B3BBECCh486d"
      },
      "execution_count": null,
      "outputs": []
    },
    {
      "cell_type": "code",
      "source": [
        "edades[3]"
      ],
      "metadata": {
        "id": "3bt3Q6za5mKd"
      },
      "execution_count": null,
      "outputs": []
    },
    {
      "cell_type": "code",
      "source": [
        "frase_alura = [' Digitales', 'y ', 'Negocios ', 'de ', 'Tecnología ', 'Cursos ']"
      ],
      "metadata": {
        "id": "HacLtrWf5pPh"
      },
      "execution_count": null,
      "outputs": []
    },
    {
      "cell_type": "code",
      "source": [
        "frase_alura"
      ],
      "metadata": {
        "id": "6awMJ197T9Si"
      },
      "execution_count": null,
      "outputs": []
    },
    {
      "cell_type": "code",
      "source": [
        "frase_alura[-1] + frase_alura[3] + frase_alura[-2] + frase_alura[1] + frase_alura[2] + frase_alura[0]\n"
      ],
      "metadata": {
        "id": "DJU7p2EQUBFt"
      },
      "execution_count": null,
      "outputs": []
    },
    {
      "cell_type": "markdown",
      "source": [
        "#***Bucles y Ciclos (Loops)***"
      ],
      "metadata": {
        "id": "dphPDTF4epqM"
      }
    },
    {
      "cell_type": "code",
      "source": [
        "#Para cada una de las edadeds que estan dentro del array: recorrer y evaluar \"fuera\" de la funcion\n",
        "edades = [18,29,11,49,89,1]\n",
        "\n",
        "def verificacion_conductor(edad):\n",
        " if edad >= 18:\n",
        "   print(\"Puede conducir\")\n",
        " else:\n",
        "   print(\"No puede conducir\")\n",
        "\n",
        "#cuidado con la identacion\n",
        "for edad in edades:\n",
        "   verificacion_conductor(edad)"
      ],
      "metadata": {
        "colab": {
          "base_uri": "https://localhost:8080/"
        },
        "id": "p8eYZjgAUQQi",
        "outputId": "1f34b8dc-c85c-4c5e-ba2f-09e7d22e02f4"
      },
      "execution_count": null,
      "outputs": [
        {
          "output_type": "stream",
          "name": "stdout",
          "text": [
            "Puede conducir\n",
            "Puede conducir\n",
            "No puede conducir\n",
            "Puede conducir\n",
            "Puede conducir\n",
            "No puede conducir\n"
          ]
        }
      ]
    },
    {
      "cell_type": "code",
      "source": [
        "#Para cada una de las edadeds que estan dentro del array: recorrer y evaluar \"dentro\" de la funcion\n",
        "edades = [18,29,11,49,89,1]\n",
        "\n",
        "def verificacion_conductor(edades):\n",
        " for edad in edades:\n",
        "   if edad >= 18:\n",
        "    print(\"Puede conducir\")\n",
        " else:\n",
        "    print(\"No puede conducir\")\n",
        "\n",
        "#cuidado con la identacion\n",
        "verificacion_conductor(edades)"
      ],
      "metadata": {
        "colab": {
          "base_uri": "https://localhost:8080/"
        },
        "id": "Fp32wpsnrtST",
        "outputId": "34333349-4fbb-4fe5-fe40-63b7db65205f"
      },
      "execution_count": null,
      "outputs": [
        {
          "output_type": "stream",
          "name": "stdout",
          "text": [
            "Puede conducir\n",
            "Puede conducir\n",
            "Puede conducir\n",
            "Puede conducir\n",
            "No puede conducir\n"
          ]
        }
      ]
    },
    {
      "cell_type": "code",
      "source": [
        "def clasificar_nps(notas):\n",
        "  for nota in notas:\n",
        "    if nota <= 6:\n",
        "      print('El alumno es considerado Detractor')\n",
        "    else:\n",
        "      if nota <= 8:\n",
        "        print('El alumno es considerado Neutro')\n",
        "      else:\n",
        "        print('El alumno es considerado Promotor')\n",
        "\n",
        "clasificar_nps([9,8,10,6,7])"
      ],
      "metadata": {
        "colab": {
          "base_uri": "https://localhost:8080/"
        },
        "id": "-hJmWYwZ3Uva",
        "outputId": "ca683dff-205b-4598-8cd0-b072de0efcd7"
      },
      "execution_count": null,
      "outputs": [
        {
          "output_type": "stream",
          "name": "stdout",
          "text": [
            "El alumno es considerado Promotor\n",
            "El alumno es considerado Neutro\n",
            "El alumno es considerado Promotor\n",
            "El alumno es considerado Detractor\n",
            "El alumno es considerado Neutro\n"
          ]
        }
      ]
    },
    {
      "cell_type": "markdown",
      "source": [
        "#***Operadores Booleanos***"
      ],
      "metadata": {
        "id": "Ztks0JvpJD-U"
      }
    },
    {
      "cell_type": "code",
      "source": [
        "edad = 18"
      ],
      "metadata": {
        "id": "UEJKCqGz3cTu"
      },
      "execution_count": null,
      "outputs": []
    },
    {
      "cell_type": "code",
      "source": [
        "edad >= 18"
      ],
      "metadata": {
        "colab": {
          "base_uri": "https://localhost:8080/"
        },
        "id": "Tf0c6LvWJSqM",
        "outputId": "c888bff5-0d47-43da-d631-037ef8a706ca"
      },
      "execution_count": null,
      "outputs": [
        {
          "output_type": "execute_result",
          "data": {
            "text/plain": [
              "True"
            ]
          },
          "metadata": {},
          "execution_count": 23
        }
      ]
    },
    {
      "cell_type": "code",
      "source": [
        "edad < 18"
      ],
      "metadata": {
        "colab": {
          "base_uri": "https://localhost:8080/"
        },
        "id": "4fpga0IvJVkp",
        "outputId": "76d4445f-0bf6-42f0-9242-c667e8364814"
      },
      "execution_count": null,
      "outputs": [
        {
          "output_type": "execute_result",
          "data": {
            "text/plain": [
              "False"
            ]
          },
          "metadata": {},
          "execution_count": 24
        }
      ]
    },
    {
      "cell_type": "code",
      "source": [
        "edad == 18"
      ],
      "metadata": {
        "colab": {
          "base_uri": "https://localhost:8080/"
        },
        "id": "e0yV7wJ6JaRT",
        "outputId": "e5750d32-67e5-419b-979c-76efd877d5b8"
      },
      "execution_count": null,
      "outputs": [
        {
          "output_type": "execute_result",
          "data": {
            "text/plain": [
              "True"
            ]
          },
          "metadata": {},
          "execution_count": 25
        }
      ]
    },
    {
      "cell_type": "code",
      "source": [
        "#INGRESAR VALORES CON .append(\"lo que queramos meter al array\")\n",
        "verificaciones = []\n",
        "edades = [12, 19, 25]\n",
        "\n",
        "def verificaciones_booleanas(verificaciones, edades):\n",
        "    for edad in edades:\n",
        "        if edad >= 18:\n",
        "            verificaciones.append(True)\n",
        "        else:\n",
        "            verificaciones.append(False)\n",
        "\n",
        "    for verificacion in verificaciones:  #recorre la lista de verificaciones\n",
        "        if verificacion == True:\n",
        "            print(\"Podes conducir, macho\")\n",
        "        else:\n",
        "            print(\"No podes conducir, hermano\")\n",
        "\n",
        "verificaciones_booleanas(verificaciones, edades)"
      ],
      "metadata": {
        "colab": {
          "base_uri": "https://localhost:8080/"
        },
        "id": "ETv_Yr7tJdG0",
        "outputId": "918d95ab-2883-457b-b6fc-811e6ac963c9"
      },
      "execution_count": null,
      "outputs": [
        {
          "output_type": "stream",
          "name": "stdout",
          "text": [
            "No podes conducir, hermano\n",
            "Podes conducir, macho\n",
            "Podes conducir, macho\n"
          ]
        }
      ]
    },
    {
      "cell_type": "code",
      "source": [
        "# ejercicio\n",
        "a=2\n",
        "\n",
        "if a < 2:\n",
        " a = a + 1\n",
        "else:\n",
        " a = a + 2\n",
        "if a < 4:\n",
        " a = a - 4\n",
        "else:\n",
        " a = a + 6\n",
        "\n",
        "a"
      ],
      "metadata": {
        "colab": {
          "base_uri": "https://localhost:8080/"
        },
        "id": "z9l4-W8FKq_o",
        "outputId": "c9c27bb3-bb39-4c2d-9bdc-797da7560afd"
      },
      "execution_count": null,
      "outputs": [
        {
          "output_type": "execute_result",
          "data": {
            "text/plain": [
              "10"
            ]
          },
          "metadata": {},
          "execution_count": 45
        }
      ]
    },
    {
      "cell_type": "markdown",
      "source": [
        "#***Arrays con diferentes tipos de datos***"
      ],
      "metadata": {
        "id": "CiftX1MtNsIk"
      }
    },
    {
      "cell_type": "code",
      "source": [
        "persona = [\"Pablo\", 25, True, \"Salvador\"]"
      ],
      "metadata": {
        "id": "FEGS-NA4OIDl"
      },
      "execution_count": null,
      "outputs": []
    },
    {
      "cell_type": "code",
      "source": [
        "persona"
      ],
      "metadata": {
        "colab": {
          "base_uri": "https://localhost:8080/"
        },
        "id": "tJkVhWFqOdie",
        "outputId": "9077930a-9ed7-4ea2-8561-cfabbb9170af"
      },
      "execution_count": null,
      "outputs": [
        {
          "output_type": "execute_result",
          "data": {
            "text/plain": [
              "['Pablo', 25, True, 'Salvador']"
            ]
          },
          "metadata": {},
          "execution_count": 189
        }
      ]
    },
    {
      "cell_type": "code",
      "source": [
        "#Mostrar por pantalla cada elemento que tenga un array y el tipo de dato que es cada uno\n",
        "#elemento es un espacio del array\n",
        "for elemento in persona:\n",
        "  print(f\"El elemento {elemento} de la lista es del tipo\", type(elemento))"
      ],
      "metadata": {
        "colab": {
          "base_uri": "https://localhost:8080/"
        },
        "id": "WjQes-8rOewM",
        "outputId": "698277c3-3313-40ea-8c8a-f87932fd2541"
      },
      "execution_count": null,
      "outputs": [
        {
          "output_type": "stream",
          "name": "stdout",
          "text": [
            "El elemento Pablo de la lista es del tipo <class 'str'>\n",
            "El elemento 25 de la lista es del tipo <class 'int'>\n",
            "El elemento True de la lista es del tipo <class 'bool'>\n",
            "El elemento Salvador de la lista es del tipo <class 'str'>\n"
          ]
        }
      ]
    },
    {
      "cell_type": "code",
      "source": [
        "#ejercicio\n",
        "lista = ['int', False, True, '18', 2020]\n",
        "\n",
        "for elemento in lista:\n",
        " print(type(elemento))"
      ],
      "metadata": {
        "colab": {
          "base_uri": "https://localhost:8080/"
        },
        "id": "I0p2i1KmPCcD",
        "outputId": "707e5ebd-ec33-4f1a-b78f-361b38e49805"
      },
      "execution_count": null,
      "outputs": [
        {
          "output_type": "stream",
          "name": "stdout",
          "text": [
            "<class 'str'>\n",
            "<class 'bool'>\n",
            "<class 'bool'>\n",
            "<class 'str'>\n",
            "<class 'int'>\n"
          ]
        }
      ]
    },
    {
      "cell_type": "code",
      "source": [
        "#ejercicio\n",
        "pi = 3.14\n",
        "type(pi)"
      ],
      "metadata": {
        "colab": {
          "base_uri": "https://localhost:8080/"
        },
        "id": "UK4k1shMPZ71",
        "outputId": "8098f847-5428-418e-d34a-75a7509571c6"
      },
      "execution_count": null,
      "outputs": [
        {
          "output_type": "execute_result",
          "data": {
            "text/plain": [
              "float"
            ]
          },
          "metadata": {},
          "execution_count": 192
        }
      ]
    },
    {
      "cell_type": "code",
      "source": [],
      "metadata": {
        "id": "SxniVbnRP_9f"
      },
      "execution_count": null,
      "outputs": []
    },
    {
      "cell_type": "markdown",
      "source": [
        "#***Importacion de Bibliotecas***\n",
        "Random generator\n",
        "https://docs.python.org/3/library/random.html\n"
      ],
      "metadata": {
        "id": "eFMc77qBly_Z"
      }
    },
    {
      "cell_type": "markdown",
      "source": [
        " Importamos un fragmento o módulo de una biblioteca para no sobrecargar la memoria de nuestra aplicación con código que no será usado."
      ],
      "metadata": {
        "id": "zM4Y4qZAphf9"
      }
    },
    {
      "cell_type": "code",
      "source": [
        "#Es una libreria encargada de generar numeros aleatorios de A numero a B a partir de la funcion randrange\n",
        "#Empieza en 0 el rango\n",
        "#seed significado:   establece el estado inicial del generador de números aleatorios.\n",
        "from random import randrange, seed"
      ],
      "metadata": {
        "id": "mAS72qHMl-hC"
      },
      "execution_count": null,
      "outputs": []
    },
    {
      "cell_type": "code",
      "source": [
        "randrange(0,11)"
      ],
      "metadata": {
        "colab": {
          "base_uri": "https://localhost:8080/"
        },
        "id": "tgDcclVRolem",
        "outputId": "f9ea0964-b89c-44c1-9c56-f8a606788555"
      },
      "execution_count": null,
      "outputs": [
        {
          "output_type": "execute_result",
          "data": {
            "text/plain": [
              "6"
            ]
          },
          "metadata": {},
          "execution_count": 10
        }
      ]
    },
    {
      "cell_type": "code",
      "source": [
        "#crear un array que de una nota de matematica aleatoria del 1 al 10\n",
        "notas_matematica = []"
      ],
      "metadata": {
        "id": "jwQEnQdbten8"
      },
      "execution_count": null,
      "outputs": []
    },
    {
      "cell_type": "code",
      "source": [
        "notas_matematica.append(randrange(0,11))"
      ],
      "metadata": {
        "id": "mQ3EbpoQtoKt"
      },
      "execution_count": null,
      "outputs": []
    },
    {
      "cell_type": "code",
      "source": [
        "notas_matematica"
      ],
      "metadata": {
        "colab": {
          "base_uri": "https://localhost:8080/"
        },
        "id": "0mSRet5ktwh9",
        "outputId": "25acd677-928e-4e37-8572-20851c2895cf"
      },
      "execution_count": null,
      "outputs": [
        {
          "output_type": "execute_result",
          "data": {
            "text/plain": [
              "[]"
            ]
          },
          "metadata": {},
          "execution_count": 3
        }
      ]
    },
    {
      "cell_type": "code",
      "source": [
        "#hacerlo en un bucle de x cantidad de veces, lo especifico con range(x)\n",
        "notas_matematica = []\n",
        "for notas in range(6):\n",
        "  notas_matematica.append(randrange(0,11))"
      ],
      "metadata": {
        "id": "0waS8WtCubsS"
      },
      "execution_count": null,
      "outputs": []
    },
    {
      "cell_type": "code",
      "source": [
        "notas_matematica"
      ],
      "metadata": {
        "colab": {
          "base_uri": "https://localhost:8080/"
        },
        "id": "BM-mCs9-uumA",
        "outputId": "690bc2f3-de79-48ce-828a-ee87df2e40b4"
      },
      "execution_count": null,
      "outputs": [
        {
          "output_type": "execute_result",
          "data": {
            "text/plain": [
              "[10, 4, 5, 4, 0, 9]"
            ]
          },
          "metadata": {},
          "execution_count": 14
        }
      ]
    },
    {
      "cell_type": "code",
      "source": [
        "#saber el tamaño de un array\n",
        "len(notas_matematica)"
      ],
      "metadata": {
        "colab": {
          "base_uri": "https://localhost:8080/"
        },
        "id": "UujC1d3evGE0",
        "outputId": "41f7e960-96e6-4a1e-e087-0769762cbcfe"
      },
      "execution_count": null,
      "outputs": [
        {
          "output_type": "execute_result",
          "data": {
            "text/plain": [
              "6"
            ]
          },
          "metadata": {},
          "execution_count": 15
        }
      ]
    },
    {
      "cell_type": "code",
      "source": [
        "#ejercicio de prueba, nada significativo\n",
        "from random import randrange\n",
        "type(randrange)"
      ],
      "metadata": {
        "colab": {
          "base_uri": "https://localhost:8080/"
        },
        "id": "ibQ2BxPa7n7S",
        "outputId": "fc2d65a3-3598-4db3-8f8e-195ca46af326"
      },
      "execution_count": null,
      "outputs": [
        {
          "output_type": "execute_result",
          "data": {
            "text/plain": [
              "method"
            ]
          },
          "metadata": {},
          "execution_count": 16
        }
      ]
    },
    {
      "cell_type": "markdown",
      "source": [
        "#***Biblioteca matplotlib para graficos***\n",
        "\n",
        "https://matplotlib.org/stable/users/index.html"
      ],
      "metadata": {
        "id": "7CD-Kwa1C9qj"
      }
    },
    {
      "cell_type": "code",
      "source": [
        "#importo la parte de la bibioteca que quiero y le asigno un seudonimo con el \"as\" y un nombre\n",
        "import matplotlib.pyplot as plt"
      ],
      "metadata": {
        "id": "tJ_i-BRM8SO3"
      },
      "execution_count": null,
      "outputs": []
    },
    {
      "cell_type": "code",
      "source": [
        "nombre = input(\"Introduci tu nombre: \")\n",
        "nombre = str(nombre)\n",
        "print(f\"Nombre seteado: {nombre} \")"
      ],
      "metadata": {
        "id": "3DtkJ_gyI_IO"
      },
      "execution_count": null,
      "outputs": []
    },
    {
      "cell_type": "code",
      "source": [
        "list(range(1,7))"
      ],
      "metadata": {
        "id": "nArSc48TEZn6"
      },
      "execution_count": null,
      "outputs": []
    },
    {
      "cell_type": "code",
      "source": [
        "#asignacion de valores\n",
        "x = list(range(1,7))\n",
        "y = notas_matematica"
      ],
      "metadata": {
        "id": "hC7Rp66qEe9v"
      },
      "execution_count": null,
      "outputs": []
    },
    {
      "cell_type": "code",
      "source": [
        "x"
      ],
      "metadata": {
        "colab": {
          "base_uri": "https://localhost:8080/"
        },
        "id": "FhJlD8ojEh2k",
        "outputId": "47788418-2f22-4668-8d34-d845a615da9a"
      },
      "execution_count": null,
      "outputs": [
        {
          "output_type": "execute_result",
          "data": {
            "text/plain": [
              "[1, 2, 3, 4, 5, 6]"
            ]
          },
          "metadata": {},
          "execution_count": 209
        }
      ]
    },
    {
      "cell_type": "code",
      "source": [
        "y"
      ],
      "metadata": {
        "colab": {
          "base_uri": "https://localhost:8080/"
        },
        "id": "6opplONEEtNC",
        "outputId": "8fa5d203-d618-45e8-b0a1-2bb33b01f02a"
      },
      "execution_count": null,
      "outputs": [
        {
          "output_type": "execute_result",
          "data": {
            "text/plain": [
              "[0, 7, 1, 10, 8, 2]"
            ]
          },
          "metadata": {},
          "execution_count": 210
        }
      ]
    },
    {
      "cell_type": "code",
      "source": [
        "x = list(range(1,7)) #hacemos una lista del 1 al 6 para asignar los valores\n",
        "y = notas_matematica\n",
        "plt.plot(x,y, marker = \"o\") #ponemos los valores de posicion y el marcador en tipo \"o\"\n",
        "plt.title(\"Gráfico de prueba con notas de matemática aleatorias\") #titulo del grafico\n",
        "plt.xlabel(f\"Prueba de {nombre}\")  #xlabal es el nombre asignado que quiero en el eje x\n",
        "plt.ylabel(\"Notas\")  #ylabal es el nombre asignado que quiero en el eje y\n",
        "plt.show() #para que no muestre informacion inecesaria"
      ],
      "metadata": {
        "colab": {
          "base_uri": "https://localhost:8080/",
          "height": 472
        },
        "id": "YBPjoIJgEt-G",
        "outputId": "957e0600-8c6b-4e37-9a40-c33a68a891c2"
      },
      "execution_count": null,
      "outputs": [
        {
          "output_type": "display_data",
          "data": {
            "text/plain": [
              "<Figure size 640x480 with 1 Axes>"
            ],
            "image/png": "[encoded data removed]"
          },
          "metadata": {}
        }
      ]
    },
    {
      "cell_type": "markdown",
      "source": [
        "#**Ejercicio Final**"
      ],
      "metadata": {
        "id": "N9mfn3RgGjez"
      }
    },
    {
      "cell_type": "code",
      "source": [
        "import matplotlib.pyplot as plt\n",
        "\n",
        "notas_matematica = ['Matemática',8,7,6,6,7,7,8,10]\n",
        "notas_lenguaje = ['Lenguaje',9,9,9,8,5,6,8,5]\n",
        "notas_geografia = ['Geografía',10,10,6,7,7,7,8,7]\n",
        "\n",
        "notas = [notas_matematica, notas_lenguaje, notas_geografia]"
      ],
      "metadata": {
        "id": "VGXhfW53GjIf"
      },
      "execution_count": null,
      "outputs": []
    },
    {
      "cell_type": "code",
      "source": [
        "for nota in notas:\n",
        " x = list(range(1, 9))\n",
        " y = nota[1:]\n",
        " plt.plot(x, y, marker='o')\n",
        " plt.xlabel('Exámenes')\n",
        " plt.ylabel('Notas')\n",
        " plt.title(nota[0])\n",
        " plt.show()"
      ],
      "metadata": {
        "colab": {
          "base_uri": "https://localhost:8080/",
          "height": 1000
        },
        "id": "G1ihZ7YSGxy3",
        "outputId": "e4673cf4-cf9f-4ef4-f04d-bb6cd8c9ef18"
      },
      "execution_count": null,
      "outputs": [
        {
          "output_type": "display_data",
          "data": {
            "text/plain": [
              "<Figure size 640x480 with 1 Axes>"
            ],
            "image/png": "[encoded data removed]"
          },
          "metadata": {}
        },
        {
          "output_type": "display_data",
          "data": {
            "text/plain": [
              "<Figure size 640x480 with 1 Axes>"
            ],
            "image/png": "[encoded data removed]"
          },
          "metadata": {}
        },
        {
          "output_type": "display_data",
          "data": {
            "text/plain": [
              "<Figure size 640x480 with 1 Axes>"
            ],
            "image/png": "[encoded data removed]"
          },
          "metadata": {}
        }
      ]
    }
  ]
}